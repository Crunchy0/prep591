{
 "cells": [
  {
   "cell_type": "markdown",
   "id": "f08e9ea8",
   "metadata": {},
   "source": [
    "# Лабораторная работа №3\n",
    "Выполнил студент группы 9382 Павлов Роман, вариант 10\n",
    "\n",
    "### Цель работы:\n",
    "Практическое применение библиотеки символьных вычислений Python (SymPy) для решения задач дискретной математики и математической логики.\n",
    "\n",
    "### Задачи:\n",
    "1. Решить свой вариант диофантова уравнения.\n",
    "2. Имея открытую часть ключа RSA найти соответствующую закрытую часть и расшифровать кодированное слово.\n",
    "3. Записать в формате ДНФ и КНФ булеву функцию, заданную своим аналитическим выражением.\n",
    "\n",
    "## Подготовка к выполнению работы\n",
    "Для проверки ввода диофантова уравнения используются регулярные выражения, а также для отображения результатов работы модуля <b>SymPy</b> использована функция <b>display</b> модуля <b>IPython</b>."
   ]
  },
  {
   "cell_type": "code",
   "execution_count": 1,
   "id": "11f9acb1",
   "metadata": {},
   "outputs": [],
   "source": [
    "import re\n",
    "from IPython.display import display"
   ]
  },
  {
   "cell_type": "markdown",
   "id": "bcea86df",
   "metadata": {},
   "source": [
    "### Решение диофантова уравнения\n",
    "\\\n",
    "\\\n",
    "<b>Задание (вариант 30):</b>\n",
    "\n",
    "Решить диофантово уравнение $1862x − 1897y = 56$.\n",
    "\n",
    "Для решения уравнения используется функция <b>diop_solve</b>, добавлена возможность вводить любое диофантово уравнение формата, указанного выше."
   ]
  },
  {
   "cell_type": "code",
   "execution_count": 2,
   "id": "ff2c741e",
   "metadata": {},
   "outputs": [
    {
     "name": "stdout",
     "output_type": "stream",
     "text": [
      "1862x - 1897y = 56\n",
      "\n",
      "Решение:\n"
     ]
    },
    {
     "data": {
      "text/latex": [
       "$\\displaystyle \\left( 271 t_{0} - 432, \\  266 t_{0} - 424\\right)$"
      ],
      "text/plain": [
       "(271*t_0 - 432, 266*t_0 - 424)"
      ]
     },
     "metadata": {},
     "output_type": "display_data"
    }
   ],
   "source": [
    "from sympy.solvers.diophantine.diophantine import diop_solve as solve\n",
    "from sympy import symbols\n",
    "\n",
    "regExp = r\"^\\s*(\\-?)(\\d{1,6})\\*?([A-Za-z])\\s*([+-])\\s*(\\d{1,6})\\*?([A-Za-z])\\s*=\\s*(\\-?)(\\d{1,6})\\s*$\"\n",
    "tmp = re.compile(regExp)\n",
    "\n",
    "equation = input()\n",
    "fm = tmp.fullmatch(equation)\n",
    "groups = fm.groups()\n",
    "\n",
    "letters = (groups[2], groups[5])\n",
    "syms = symbols(\", \".join(letters), integer=True);\n",
    "\n",
    "coefs = (int(groups[1]), int(groups[4]))\n",
    "signs = (-1 if groups[0] else 1, -1 if groups[3] else 1)\n",
    "equals = -int(groups[7]) if groups[7] else int(groups[7])\n",
    "\n",
    "print(\"\\nРешение:\")\n",
    "display(solve(signs[0]*coefs[0]*syms[0] + signs[1]*coefs[1]*syms[1] - equals))"
   ]
  },
  {
   "cell_type": "markdown",
   "id": "cd8dce7e",
   "metadata": {},
   "source": [
    "### Расшифрование кодированного слова\n",
    "\\\n",
    "\\\n",
    "<b>Задание (вариант 30):</b>\n",
    "\n",
    "Русское слово из четырех букв закодировано при помощи алгоритма RSA открытым ключом $(e = 15,m = 46)$. Шифрованное сообщение имеет вид $(22; 32; 19; 34)$. Подберите закрытую часть ключа и прочитайте исходное слово. Буквам русского алфавита соответсвуют числа в диапазоне от 2 до 32 (исключены буквы \"ё\" и \"ъ\").\n",
    "\n",
    "Сгенерирован закрытый ключ на основе разложения модуля на простые множители: $46 = 2*23$., для расшифрования использована функция <b>decipher_rsa</b> с этим ключом."
   ]
  },
  {
   "cell_type": "code",
   "execution_count": 3,
   "id": "bec8d5e0",
   "metadata": {
    "scrolled": false
   },
   "outputs": [
    {
     "name": "stdout",
     "output_type": "stream",
     "text": [
      "Расшифрованное слово: ФОГТ"
     ]
    }
   ],
   "source": [
    "from sympy.crypto.crypto import decipher_rsa as dec\n",
    "from sympy.crypto.crypto import rsa_private_key as generate\n",
    "\n",
    "alphabet = \"АБВГДЕЖЗИЙКЛМНОПРСТУФХЦЧШЩЫЬЭЮЯ\"\n",
    "\n",
    "privateKey = generate(2, 23, 15)\n",
    "text = [22, 32, 19, 34]\n",
    "print(\"Расшифрованное слово: \", end=\"\")\n",
    "for i in text:\n",
    "    print(alphabet[dec(i, privateKey) - 2], end=\"\")"
   ]
  },
  {
   "cell_type": "markdown",
   "id": "01ff7c78",
   "metadata": {},
   "source": [
    "### Преобразование булевой функции к КНФ и ДНФ\n",
    "\\\n",
    "\\\n",
    "<b>Задание (вариант 40):</b>\n",
    "\n",
    "$f(x, y, z) = (y\\ xor\\ (yx))\\ xor\\ ((zx)\\ ∨\\ (x\\ ∨\\ z))$.\n",
    "\n",
    "Для преобразования заданной функции к КНФ и ДНФ использованы функции <b>to_cnf</b> и <b>to_dnf</b> соответственно."
   ]
  },
  {
   "cell_type": "code",
   "execution_count": 4,
   "id": "2876492c",
   "metadata": {
    "scrolled": false
   },
   "outputs": [
    {
     "name": "stdout",
     "output_type": "stream",
     "text": [
      "КНФ:\n"
     ]
    },
    {
     "data": {
      "text/latex": [
       "$\\displaystyle \\left(x \\vee y \\vee z\\right) \\wedge \\left(x \\vee \\neg y \\vee \\neg z\\right)$"
      ],
      "text/plain": [
       "(x | y | z) & (x | ~y | ~z)"
      ]
     },
     "metadata": {},
     "output_type": "display_data"
    },
    {
     "name": "stdout",
     "output_type": "stream",
     "text": [
      "ДНФ:\n"
     ]
    },
    {
     "data": {
      "text/latex": [
       "$\\displaystyle x \\vee \\left(y \\wedge \\neg z\\right) \\vee \\left(z \\wedge \\neg y\\right)$"
      ],
      "text/plain": [
       "x | (y & ~z) | (z & ~y)"
      ]
     },
     "metadata": {},
     "output_type": "display_data"
    }
   ],
   "source": [
    "from sympy.logic.boolalg import to_cnf, to_dnf\n",
    "\n",
    "x, y, z = symbols(\"x, y, z\")\n",
    "exp = (y ^ y&x) ^ ((z&x) | (x|z))\n",
    "form1 = to_cnf(exp, simplify=True)\n",
    "form2 = to_dnf(exp, simplify=True)\n",
    "\n",
    "print(\"КНФ:\");display(form1)\n",
    "print(\"ДНФ:\");display(form2)"
   ]
  },
  {
   "cell_type": "markdown",
   "id": "593875a2",
   "metadata": {},
   "source": [
    "### Вывод\n",
    "\n",
    "В ходе лабораторной работы была рассмотрена библиотека <b>Python</b> символьных вычислений <b>SymPy</b>. При решении задач освоены некоторые её возможности, приобретён навык поиска и использования разработанных инструментов, подходящих для решения поставленных задач."
   ]
  }
 ],
 "metadata": {
  "kernelspec": {
   "display_name": "Python 3 (ipykernel)",
   "language": "python",
   "name": "python3"
  },
  "language_info": {
   "codemirror_mode": {
    "name": "ipython",
    "version": 3
   },
   "file_extension": ".py",
   "mimetype": "text/x-python",
   "name": "python",
   "nbconvert_exporter": "python",
   "pygments_lexer": "ipython3",
   "version": "3.8.8"
  }
 },
 "nbformat": 4,
 "nbformat_minor": 5
}
