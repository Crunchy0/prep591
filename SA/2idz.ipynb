{
 "cells": [
  {
   "cell_type": "code",
   "execution_count": 44,
   "id": "bddfdc35-a947-4cbd-9966-8c587f699044",
   "metadata": {},
   "outputs": [],
   "source": [
    "library(\"jmuOutlier\");"
   ]
  },
  {
   "cell_type": "code",
   "execution_count": 45,
   "id": "60eb4c38-8f4a-4aca-935e-5a24d5f2b2c6",
   "metadata": {},
   "outputs": [],
   "source": [
    "x <- c(6, 2, 7, 4, 6, 3, 4, 4, 7, 8, 8, 2, 2, 4, 6, 5, 10,2, 7, 8, 4, 5, 4, 3, 5,\n",
    "       6, 5, 5, 7, 6, 6, 7, 4, 7, 5, 3, 3, 1, 3, 6, 5, 3, 2, 6, 6, 11, 5, 3, 6, 5);\n",
    "x <- sort(x); # Упорядоченная выборка (вар. ряд)\n",
    "n <- length(x);\n",
    "\n",
    "a <- 4.11;\n",
    "b <- 5.89;\n",
    "\n",
    "al <- 0.2;\n",
    "lbd_0 <- 5.00;\n",
    "lbd_1 <- 7.00"
   ]
  },
  {
   "cell_type": "code",
   "execution_count": 46,
   "id": "34c05b43-e8fa-4c0f-8e04-abeecfe3d190",
   "metadata": {},
   "outputs": [
    {
     "name": "stdout",
     "output_type": "stream",
     "text": [
      "1 2 2 2 2 2 3 3 3 3 3 3 3 4 4 4 4 4 4 4 5 5 5 5 5 5 5 5 5 6 6 6 6 6 6 6 6 6 6 7 7 7 7 7 7 8 8 8 10 11"
     ]
    }
   ],
   "source": [
    "cat(x)"
   ]
  },
  {
   "cell_type": "markdown",
   "id": "779f3ea1-8dc1-4495-8038-1ea136401581",
   "metadata": {},
   "source": [
    "Вариационный ряд: 1, 2, 2, 2, 2, 2, 3, 3, 3, 3, 3, 3, 3, 4, 4, 4, 4, 4, 4, 4, 5, 5, 5, 5, 5, 5, 5, 5, 5, 6, 6, 6, 6, 6, 6, 6, 6, 6, 6, 7, 7, 7, 7, 7, 7, 8, 8, 8, 10, 11"
   ]
  },
  {
   "cell_type": "code",
   "execution_count": 47,
   "id": "80b163af-8f97-484e-9f00-ee03fad66131",
   "metadata": {},
   "outputs": [],
   "source": [
    "f_emp <- function(x, t){ # Эмпирическая функция распределения\n",
    "    z <- x[x<t];\n",
    "    length(z)/length(x)\n",
    "}\n",
    "\n",
    "l <- as.integer(min(x) - 1)\n",
    "u <- as.integer(max(x) + 1)\n",
    "\n",
    "xu <- unique(x);\n",
    "yu <- 0;\n",
    "for(i in 1:length(xu)){\n",
    "    yu[i] = f_emp(x, xu[i]);\n",
    "}\n",
    "yu[length(xu) + 1] = 1;\n",
    "f_emp_graph = stepfun(xu, yu);\n",
    "\n",
    "freqs <- 0;\n",
    "for(i in 1:length(xu)){\n",
    "    freqs[i] <- yu[i+1] - yu[i];\n",
    "}"
   ]
  },
  {
   "cell_type": "markdown",
   "id": "818716ca-86e6-46d1-b2f5-5ac4771bee5d",
   "metadata": {},
   "source": [
    "Гистограмма частот:"
   ]
  },
  {
   "cell_type": "code",
   "execution_count": 48,
   "id": "be1f6648-1069-4abe-9582-3bd5ba03ec8a",
   "metadata": {},
   "outputs": [
    {
     "data": {
      "image/png": "[encoded data removed]",
      "text/plain": [
       "Plot with title \"Histogram of x\""
      ]
     },
     "metadata": {
      "image/png": {
       "height": 420,
       "width": 420
      }
     },
     "output_type": "display_data"
    }
   ],
   "source": [
    "# Гистограмма частот\n",
    "hist(x,freq=TRUE, breaks=c(l:u));\n",
    "axis(1, at = c(l:u));"
   ]
  },
  {
   "cell_type": "markdown",
   "id": "e1f94adc-59ae-4ebd-ad28-2cbaf65a3d9c",
   "metadata": {},
   "source": [
    "Эмпирическая функция распределения: $\\Large F_{эмп}(x) = \\frac{\\sum\\limits_{i=1}^n \\mathbb{1}\\{x_i < x\\}}{n}$"
   ]
  },
  {
   "cell_type": "code",
   "execution_count": 49,
   "id": "01498064-33e2-4818-a952-ceb9fa9d0714",
   "metadata": {},
   "outputs": [
    {
     "data": {
      "image/png": "[encoded data removed]",
      "text/plain": [
       "Plot with title \"stepfun(xu, yu)\""
      ]
     },
     "metadata": {
      "image/png": {
       "height": 420,
       "width": 420
      }
     },
     "output_type": "display_data"
    }
   ],
   "source": [
    "# График эмп. функции распределения\n",
    "plot(f_emp_graph);\n",
    "axis(1, at = c(l:u));"
   ]
  },
  {
   "cell_type": "markdown",
   "id": "07f97b42-b763-40c5-afda-31f9124acc73",
   "metadata": {},
   "source": [
    "Выборочное среднее: $\\Large\\overline x = \\frac{\\sum\\limits_{i=1}^n x_i}{n}$\\\n",
    "Выборочная дисперсия: $\\Large\\frac{\\sum\\limits_{i=1}^n x_i^2}{n} - \\overline x$\\\n",
    "Медиана: $\\Large x_{\\normalsize n/2+1}$\\\n",
    "\n",
    "Асимметрия: $\\Large\\frac{\\sum\\limits_{i=1}^n (x_i - \\overline x)^3}{n\\sigma^{3/2}}$\\\n",
    "Эксцесс: $\\Large\\frac{\\sum\\limits_{i=1}^n (x_i - \\overline x)^4}{n\\sigma^2 - 3}$\\\n",
    "Вероятность $P(x \\in [a, b]) = F_{эмп}(b) - F_{эмп}(a)$"
   ]
  },
  {
   "cell_type": "code",
   "execution_count": 50,
   "id": "08475f02-aac7-4c0f-9c22-02de27b6a768",
   "metadata": {},
   "outputs": [
    {
     "name": "stdout",
     "output_type": "stream",
     "text": [
      "Среднее:  5.04 \n",
      "Выб. дисперсия:  4.3584 \n",
      "Медиана:  5 \n",
      "Асимметрия:  0.4216897 \n",
      "Эксцесс:  0.1767403 \n",
      "P( 4.11 <= x <= 5.89 ):  0.18 \n"
     ]
    }
   ],
   "source": [
    "mean <- sum(x)/length(x); # Выборочное среднее\n",
    "\n",
    "var <- sum(x^2)/length(x) - mean^2; # Выборочная дисперсия\n",
    "\n",
    "median <- x[length(x) %/% 2 + 1]; # Медиана\n",
    "\n",
    "asm <- sum((x-mean)^3)/length(x)/var^(3/2); # Выборочная асимметрия\n",
    "\n",
    "exc <- sum((x-mean)^4)/length(x)/var^2-3 # Выборочный эксцесс\n",
    "\n",
    "P_a_b <- f_emp(x, b) - f_emp(x, a); # Вер-ть P(a <= x <= b)\n",
    "\n",
    "cat(\"Среднее: \", mean[1], \"\\n\")\n",
    "cat(\"Выб. дисперсия: \", var[1], \"\\n\")\n",
    "cat(\"Медиана: \", median[1], \"\\n\")\n",
    "cat(\"Асимметрия: \", asm[1], \"\\n\")\n",
    "cat(\"Эксцесс: \", exc[1], \"\\n\")\n",
    "cat(\"P(\", a, \"<= x <=\", b, \"): \", P_a_b[1], \"\\n\")"
   ]
  },
  {
   "cell_type": "markdown",
   "id": "fed5abc4-cd76-4a63-a35e-af9ea92e5fde",
   "metadata": {},
   "source": [
    "Найдём оценку параметра $\\lambda$ по методу МП:\n",
    "\n",
    "$\\large p(x) = \\Large \\frac{e^{-\\lambda}\\lambda^x}{x!}$\\\n",
    "\\\n",
    "$\\large L(x, \\lambda) = \\Large \\prod\\limits_{i=1}^n \\frac{e^{-\\lambda}\\lambda^{x_i}}{x_i!} = e^{-\\lambda n} * \\lambda^{\\normalsize\\sum\\limits_{i=1}^n x_i} * \\prod\\limits_{i=1}^n \\frac{1}{x_i!}$\n",
    "\n",
    "Логарифмируем:\n",
    "\n",
    "$\\large LL(x, \\lambda) = -\\lambda n + log{\\lambda \\sum\\limits_{i=1}^n x_i} + log{\\prod\\limits_{i=1}^n \\frac{1}{x_i!}}$\n",
    "\n",
    "Дифференцируем по $\\lambda$:\n",
    "\n",
    "$\\Large \\frac{\\partial LL(x, \\lambda)}{\\partial \\lambda} = -n + \\frac{\\sum\\limits_{i=1}^n x_i}{\\lambda}$\n",
    "\n",
    "Максимизация:\n",
    "\n",
    "$\\Large -n + \\frac{\\sum\\limits_{i=1}^n x_i}{\\lambda} = 0$\n",
    "\n",
    "$\\Large\\hat\\lambda = \\frac{\\sum\\limits_{i=1}^n x_i}{n} = \\overline x$\n",
    "\n",
    "Найдём оценку по методу моментов:\n",
    "\n",
    "$\\large \\hat\\lambda = \\overline x$\n",
    "\n",
    "$\\Large E\\hat\\lambda = \\frac{1}{n}\\sum\\limits_{i=1}^n Ex_i = \\frac{1}{n}\\lambda n = \\lambda$\n",
    "\n",
    "Оценка является несмещённой."
   ]
  },
  {
   "cell_type": "code",
   "execution_count": 51,
   "id": "d0251345-cd0d-4df9-b5f1-3375b2f9ad12",
   "metadata": {},
   "outputs": [
    {
     "name": "stdout",
     "output_type": "stream",
     "text": [
      "ОМП для указанного параметра: 5.04 \n"
     ]
    }
   ],
   "source": [
    "minus_ll <- function(lbd){\n",
    "\t-sum(log(dpois(x, lbd)));\n",
    "}\n",
    "est <- nlm(minus_ll, p=mean);\n",
    "\n",
    "cat(\"ОМП для указанного параметра:\", est$estimate, \"\\n\");"
   ]
  },
  {
   "cell_type": "markdown",
   "id": "60422912",
   "metadata": {},
   "source": [
    "Построение доверительного интервала для $\\lambda$ на основе ОМП\n",
    "\n",
    "По ЦПТ:\n",
    "$\\Large \\frac{{\\sum\\limits_{i=1}^n x_i} - n\\lambda}{\\sqrt{n\\lambda}}\\rightarrow N(0,1)\\ при\\ n \\rightarrow \\infty$\n",
    "\n",
    "Выберем $\\Large x_\\alpha: \\Phi(x_\\alpha) = 1 - \\frac{\\alpha}{2} = 0.9$\n",
    "\n",
    "$\\Large P(-x_\\alpha \\leq \\frac{{\\sum\\limits_{i=1}^n x_i} - n\\lambda}{\\sqrt{n\\lambda}} \\leq x_\\alpha) = 1-\\alpha$\n",
    "\n",
    "$\\Large P(- \\frac{\\sqrt{\\lambda}x_\\alpha}{\\sqrt{n}} \\leq \\overline x - \\lambda \\leq \\frac{\\sqrt{\\lambda}x_\\alpha}{\\sqrt{n}}) = 1 - \\alpha$\n",
    "\n",
    "$\\Large \\lambda^2 -(2\\overline x + \\frac{x_\\alpha^2}{n}\\lambda + {\\overline x}^2) = 0$\n",
    "\n",
    "$\\Large \\lambda = \\overline x + \\frac{x_\\alpha^2}{2n} \\pm \\sqrt{\\frac{x_\\alpha^2 \\overline x}{n} + (\\frac{x_\\alpha^2}{2n})^2}$ - границы ДИ для параметра $\\large \\lambda$."
   ]
  },
  {
   "cell_type": "code",
   "execution_count": 52,
   "id": "01b54b9f-5683-4cab-895c-bf4cdf618894",
   "metadata": {},
   "outputs": [
    {
     "data": {
      "text/html": [
       "1.2815515655446"
      ],
      "text/latex": [
       "1.2815515655446"
      ],
      "text/markdown": [
       "1.2815515655446"
      ],
      "text/plain": [
       "[1] 1.281552"
      ]
     },
     "metadata": {},
     "output_type": "display_data"
    },
    {
     "name": "stdout",
     "output_type": "stream",
     "text": [
      "Доверительный интервал: [ 4.649212 , 5.463635 ]\n"
     ]
    }
   ],
   "source": [
    "x_al <- qnorm(1 - al/2); # Квантиль станд.норм.расп.\n",
    "x_al;\n",
    "\n",
    "itv <- array(dim=2); # Доверительный интервал\n",
    "common <- mean + x_al^2/2/n; # Середина ДИ\n",
    "bord <- sqrt((x_al^2/2/n)^2 + x_al^2*mean/n); # Отступ\n",
    "\n",
    "itv[1] <- common - bord; itv[2] <- common + bord;\n",
    "\n",
    "cat(\"Доверительный интервал: [\", itv[1], \",\", itv[2], \"]\\n\");"
   ]
  },
  {
   "cell_type": "markdown",
   "id": "bd1788ad",
   "metadata": {},
   "source": [
    "Разобьём выборку на интервалы, в каждом из которых не менее 5 значений, и вычислим значение статистики критерия:"
   ]
  },
  {
   "cell_type": "code",
   "execution_count": 53,
   "id": "c797313e",
   "metadata": {},
   "outputs": [
    {
     "name": "stderr",
     "output_type": "stream",
     "text": [
      "Warning message in plot.histogram(r, freq = freq1, col = col, border = border, angle = angle, :\n",
      "\"the AREAS in the plot are wrong -- rather use 'freq = FALSE'\"\n"
     ]
    },
    {
     "data": {
      "image/png": "[encoded data removed]",
      "text/plain": [
       "Plot with title \"Histogram of x\""
      ]
     },
     "metadata": {
      "image/png": {
       "height": 420,
       "width": 420
      }
     },
     "output_type": "display_data"
    }
   ],
   "source": [
    "b <- c(2, 3, 4, 5, 6, 7);\n",
    "r <- length(b) + 1;\n",
    "\n",
    "h<-hist(x,breaks=c(min(x) - 1,b,max(x)), freq = TRUE);\n",
    "axis(1, at= min(x): max(x));"
   ]
  },
  {
   "cell_type": "markdown",
   "id": "f535956b",
   "metadata": {},
   "source": [
    "$\\Large x^2 = \\sum\\limits_{i=1}^n \\frac{(\\nu_i - np_{\\theta i})^2}{np_{\\theta i}}$\n",
    "\n",
    "Если $\\large H_0$ справедлива, $\\Large x^2 \\sim \\chi_{n-1}^2$\n",
    "\n",
    "Тогда при $\\Large x^2 < x_\\alpha$ принимается гипотеза $\\large H_0$, $\\large x_\\alpha$ - $(1-\\alpha)$-квантиль распределения $\\large \\chi_{n-1}^2$\n",
    "\n",
    "$\\Large p_{\\theta i}(x_i = k) = \\frac{\\lambda_0^k}{k!}e^{-\\lambda_0}$"
   ]
  },
  {
   "cell_type": "code",
   "execution_count": 54,
   "id": "782310cd-192d-415f-9e28-c6f9bedc98dd",
   "metadata": {},
   "outputs": [
    {
     "name": "stdout",
     "output_type": "stream",
     "text": [
      "Статистика критерия: 1.895273 ; Квантиль:  8.55806 \n",
      "Максимальный допустимый для H0 уровень значимости: 0.9290738 \n"
     ]
    }
   ],
   "source": [
    "h<-hist(x,breaks=c(min(x),b,max(x)),plot=FALSE); nu<-h$counts\n",
    "p<-array(dim=r); p[1]<-ppois(b[1],lbd_0)\n",
    "p[2:(r-1)]<-ppois(b[2:(r-1)],lbd_0)-ppois(b[1:(r-2)],lbd_0)\n",
    "p[r]<-1-ppois(b[r-1],lbd_0)\n",
    "v1<-(nu-n*p); v2<-v1^2/n/p;\n",
    "x2<-sum(v2); x_al<-qchisq(1-al,r-1);\n",
    "q <- 1 - pchisq(x2, r-1);\n",
    "\n",
    "cat(\"Статистика критерия:\", x2, \"; Квантиль: \", x_al, \"\\n\");\n",
    "cat(\"Максимальный допустимый для H0 уровень значимости:\", q, \"\\n\");"
   ]
  },
  {
   "cell_type": "markdown",
   "id": "d5645e0a",
   "metadata": {},
   "source": [
    "1.895273 < 8.55806, принимается гипотеза $\\large H_0$\n",
    "\n",
    "Для проверки сложной гипотезы необходимо минимизировать статистику критерия с помощью подбора параметра $\\large \\theta = \\lambda$. Найденное значение сравнивается с квантилем, и гипотеза $\\large H_0$ принимается, если $\\large x^2 < x_\\alpha$"
   ]
  },
  {
   "cell_type": "code",
   "execution_count": 55,
   "id": "bf311963-85e0-475d-ad49-8799e0e68102",
   "metadata": {},
   "outputs": [
    {
     "name": "stdout",
     "output_type": "stream",
     "text": [
      "Статистика критерия сложной гипотезы: 1.884737 , параметр: 5.034269 \n",
      "Квантиль: 8.55806 \n",
      "Максимальный допустимый для H0 уровень значимости: 0.9299881 \n"
     ]
    }
   ],
   "source": [
    "h <- hist(x,breaks=c(min(x),b,max(x)),plot=FALSE);\n",
    "nu <- h$counts;\n",
    "p <- vector(mode=\"numeric\", length=r);\n",
    "\n",
    "P <- function(a){\n",
    "\tp[1] <- ppois(b[1], a);\n",
    "\tp[2:(r-1)] <- ppois(b[2:(r-1)], a) - ppois(b[1:(r-2)], a);\n",
    "\tp[r] <- 1-ppois(b[r-1], a);\n",
    "\tp;\n",
    "}\n",
    "\n",
    "X2 <- function(a){\n",
    "\tg <- n*P(a);\n",
    "\tf <- (nu - g)^2/g;\n",
    "\tsum(f);\n",
    "}\n",
    "\n",
    "xm <- nlm(X2, p=mean);\n",
    "\n",
    "x_al <- qchisq(1-al,r-1);\n",
    "q <- 1 - pchisq(xm$min, r-1);\n",
    "\n",
    "cat(\"Статистика критерия сложной гипотезы:\", xm$min, \", параметр:\", xm$estimate, \"\\n\");\n",
    "cat(\"Квантиль:\", x_al, \"\\n\");\n",
    "cat(\"Максимальный допустимый для H0 уровень значимости:\", q, \"\\n\");"
   ]
  },
  {
   "cell_type": "markdown",
   "id": "5f604724",
   "metadata": {},
   "source": [
    "Таким образом, гипотеза согласия с распределением Пуассона $H_0$ принимается."
   ]
  },
  {
   "cell_type": "markdown",
   "id": "bc0253ac-deec-403d-97fc-67f245a077c7",
   "metadata": {},
   "source": [
    "Плотность геометрического распределения: $\\Large p(x) = \\frac{\\lambda^x}{(\\lambda + 1)^{x+1}}$\n",
    "\n",
    "$\\Large L(x, \\lambda) = \\prod\\limits_{i=1}^n \\frac{\\lambda^{x_i}}{(\\lambda + 1)^{x_i+1}} = \\frac{\\lambda^{\\normalsize\\sum\\limits_{i=1}^n x_i}}{(\\lambda + 1)^{{\\normalsize\\sum\\limits_{i=1}^n x_i} + n}}$\n",
    "\n",
    "$\\Large LL(x, \\lambda) = {\\sum\\limits_{i=1}^n x_i} log{\\lambda} - {\\sum\\limits_{i=1}^n x_i} log(\\lambda + 1) - n log(\\lambda + 1)$\n",
    "\n",
    "$\\Large \\frac{\\partial LL(x, \\lambda)}{\\partial \\lambda} = \\frac{\\sum\\limits_{i=1}^n x_i}{\\lambda} - \\frac{\\sum\\limits_{i=1}^n x_i}{\\lambda + 1} - \\frac{n}{\\lambda + 1}$\n",
    "\n",
    "$\\Large \\frac{{\\sum\\limits_{i=1}^n x_i} - \\lambda n}{\\lambda(\\lambda + 1)} = 0; \\sum\\limits_{i=1}^n x_i = \\lambda n$\n",
    "\n",
    "$\\Large \\hat\\lambda = \\overline x$\n",
    "\n",
    "Метод моментов:\n",
    "\n",
    "$\\Large Ex_i = \\frac{\\frac{\\lambda}{(\\lambda + 1)}}{\\frac{1}{\\lambda + 1}} = \\lambda$\n",
    "\n",
    "$\\Large \\hat \\lambda = \\overline x$\n",
    "\n",
    "$\\Large E\\hat\\lambda = \\frac{1}{n} \\sum\\limits_{i=1}^{n} Ex_i = \\frac{1}{n} \\lambda n = \\lambda$\n",
    "\n",
    "Оценка является несмещённой."
   ]
  },
  {
   "cell_type": "code",
   "execution_count": 56,
   "id": "7b82e744-6f83-4641-9889-011a5e58ddb8",
   "metadata": {},
   "outputs": [
    {
     "name": "stdout",
     "output_type": "stream",
     "text": [
      "ОМП для указанного параметра: 5.04 \n"
     ]
    }
   ],
   "source": [
    "minus_ll <- function(lbd){\n",
    "\t-sum(log(lbd^x/(lbd+1)^(x+1)));\n",
    "}\n",
    "est <- nlm(minus_ll, p=mean);\n",
    "\n",
    "cat(\"ОМП для указанного параметра:\", est$estimate, \"\\n\");"
   ]
  },
  {
   "cell_type": "markdown",
   "id": "3791f97b",
   "metadata": {},
   "source": [
    "По ЦПТ:\n",
    "$\\Large \\frac{n \\overline x - n \\lambda}{\\sqrt{n\\lambda(\\lambda + 1)}} \\rightarrow N(0, 1)$\n",
    "\n",
    "Выберем $\\Large x_\\alpha: \\Phi(x_\\alpha) = 1 - \\frac{\\alpha}{2} = 0.9$\n",
    "\n",
    "$\\Large P(-x_\\alpha \\leq \\frac{\\sqrt{n}(\\overline x - \\lambda)}{\\sqrt{\\lambda(\\lambda + 1)}} \\le x_\\alpha) = 1 - \\alpha$\n",
    "\n",
    "$\\Large P(-\\frac{\\sqrt{\\lambda(\\lambda + 1)} x_\\alpha}{\\sqrt{n}} \\leq \\overline x - \\lambda \\leq \\frac{\\sqrt{\\lambda(\\lambda + 1)} x_\\alpha}{\\sqrt{n}}) = 1 - \\alpha$\n",
    "\n",
    "$\\Large (1 - \\frac{x_\\alpha}{n} \\lambda^2) - (2 \\overline x + \\frac{{x_\\alpha}^2}{n})\\lambda + {\\overline x}^2 = 0$\n",
    "\n",
    "$\\Large \\lambda = \\frac{2\\overline x + \\frac{{x_\\alpha}^2}{n} \\pm \\frac{x_\\alpha}{\\sqrt{n}}\\sqrt{4 \\overline x + \\frac{{x_\\alpha}^2}{n} + 4 {\\overline x}^2}}{2(1 - \\frac{{x_\\alpha}^2}{n})}$ - границы ДИ для параметра $\\lambda$"
   ]
  },
  {
   "cell_type": "code",
   "execution_count": 57,
   "id": "0ccc535a-5bc2-4821-b028-e7176d266595",
   "metadata": {},
   "outputs": [
    {
     "name": "stdout",
     "output_type": "stream",
     "text": [
      "Доверительный интервал: [ 4.194089 , 6.262222 ]\n"
     ]
    }
   ],
   "source": [
    "x_al <- qnorm(1 - al/2); # Квантиль станд.норм.расп.\n",
    "\n",
    "itv <- array(dim=2); # Доверительный интервал\n",
    "common <- (2*mean + x_al^2/n)/2/(1-x_al^2/n); # Середина ДИ\n",
    "bord <- x_al*sqrt(4*mean + x_al^2/n + 4*mean^2)/2/sqrt(n)/(1-x_al^2/n); # Отступ\n",
    "\n",
    "itv[1] <- common - bord; itv[2] <- common + bord;\n",
    "\n",
    "cat(\"Доверительный интервал: [\", itv[1], \",\", itv[2], \"]\\n\");"
   ]
  },
  {
   "cell_type": "code",
   "execution_count": 58,
   "id": "259dd60b-3aa2-48c2-bc65-c3a72fc33aba",
   "metadata": {},
   "outputs": [
    {
     "name": "stderr",
     "output_type": "stream",
     "text": [
      "Warning message in plot.histogram(r, freq = freq1, col = col, border = border, angle = angle, :\n",
      "\"the AREAS in the plot are wrong -- rather use 'freq = FALSE'\"\n"
     ]
    },
    {
     "name": "stdout",
     "output_type": "stream",
     "text": [
      "Статистика критерия: 51.70995 ; Квантиль:  8.55806 \n",
      "Максимальный допустимый для H0 уровень значимости: 2.132794e-09 \n"
     ]
    },
    {
     "data": {
      "image/png": "[encoded data removed]",
      "text/plain": [
       "Plot with title \"Histogram of x\""
      ]
     },
     "metadata": {
      "image/png": {
       "height": 420,
       "width": 420
      }
     },
     "output_type": "display_data"
    }
   ],
   "source": [
    "h<-hist(x,breaks=c(min(x) - 1,b,max(x)), freq = TRUE);\n",
    "axis(1, at= min(x): max(x));\n",
    "h<-hist(x,breaks=c(min(x),b,max(x)),plot=FALSE); nu<-h$counts\n",
    "p<-array(dim=r); p[1]<-pgeom(b[1],1/(lbd_0+1));\n",
    "p[2:(r-1)]<-pgeom(b[2:(r-1)],1/(lbd_0+1))-pgeom(b[1:(r-2)],1/(lbd_0+1))\n",
    "p[r]<-1-pgeom(b[r-1],1/(lbd_0+1))\n",
    "v1<-(nu-n*p); v2<-v1^2/n/p;\n",
    "x2<-sum(v2); x_al<-qchisq(1-al,r-1);\n",
    "q <- 1 - pchisq(x2, r-1);\n",
    "\n",
    "cat(\"Статистика критерия:\", x2, \"; Квантиль: \", x_al, \"\\n\");\n",
    "cat(\"Максимальный допустимый для H0 уровень значимости:\", q, \"\\n\");"
   ]
  },
  {
   "cell_type": "markdown",
   "id": "b80a8cc4",
   "metadata": {},
   "source": [
    "Гипотеза согласия с геометрическим распределением с параметром $\\lambda_0$ отвергается."
   ]
  },
  {
   "cell_type": "code",
   "execution_count": 59,
   "id": "dbfec414-449d-4b0d-a235-ccd4f815e256",
   "metadata": {},
   "outputs": [
    {
     "name": "stdout",
     "output_type": "stream",
     "text": [
      "Статистика критерия сложной гипотезы: 51.42297 , параметр: 5.407909 \n",
      "Квантиль: 8.55806 \n",
      "Максимальный допустимый для H0 уровень значимости: 2.435673e-09 \n"
     ]
    }
   ],
   "source": [
    "h <- hist(x,breaks=c(min(x),b,max(x)),plot=FALSE);\n",
    "nu <- h$counts;\n",
    "p <- vector(mode=\"numeric\", length=r);\n",
    "\n",
    "P <- function(a){\n",
    "\tp[1] <- pgeom(b[1], 1/(a+1));\n",
    "\tp[2:(r-1)] <- pgeom(b[2:(r-1)], 1/(a+1)) - pgeom(b[1:(r-2)], 1/(a+1));\n",
    "\tp[r] <- 1-pgeom(b[r-1], 1/(a+1));\n",
    "\tp;\n",
    "}\n",
    "\n",
    "X2 <- function(a){\n",
    "\tg <- n*P(a);\n",
    "\tf <- (nu - g)^2/g;\n",
    "\tsum(f);\n",
    "}\n",
    "\n",
    "xm <- nlm(X2, p=mean);\n",
    "\n",
    "x_al <- qchisq(1-al,r-1);\n",
    "q <- 1 - pchisq(xm$min, r-1);\n",
    "\n",
    "cat(\"Статистика критерия сложной гипотезы:\", xm$min, \", параметр:\", xm$estimate, \"\\n\");\n",
    "cat(\"Квантиль:\", x_al, \"\\n\");\n",
    "cat(\"Максимальный допустимый для H0 уровень значимости:\", q, \"\\n\");"
   ]
  },
  {
   "cell_type": "markdown",
   "id": "3b6551f3",
   "metadata": {},
   "source": [
    "Гипотеза согласия с геометрическим распределением отвергается."
   ]
  },
  {
   "cell_type": "code",
   "execution_count": 60,
   "id": "07819b12-5636-4d84-8b3b-b5615f246aee",
   "metadata": {},
   "outputs": [],
   "source": [
    "x <- c(4.871, 4.978, 4.952, 4.824, 4.944, 5.055, 5.073, 5.042, 5.111, 4.961, 4.740,\n",
    "       5.184, 4.942, 4.950, 5.103, 4.908, 5.066, 5.014, 4.923, 4.882, 5.015, 4.904,\n",
    "       5.182, 5.071, 5.096, 5.063, 5.100, 4.956, 5.080, 5.049, 4.910, 4.940, 5.006,\n",
    "       4.916, 5.128, 5.061, 4.989, 5.152, 5.131, 5.046, 5.110, 5.105, 4.878, 4.955,\n",
    "       5.245, 5.004, 4.962, 5.142, 5.002, 4.995);\n",
    "x <- sort(x); # Упорядоченная выборка (вар. ряд)\n",
    "n <- length(x);\n",
    "\n",
    "c <- 4.94;\n",
    "d <- 5.08;\n",
    "\n",
    "h <- 0.05;\n",
    "\n",
    "al <- 0.10;\n",
    "\n",
    "a0 <- 5.00;\n",
    "a1 <- 4.88;\n",
    "sig0 <- 0.10;\n",
    "sig1 <- 0.10;"
   ]
  },
  {
   "cell_type": "markdown",
   "id": "3b9ca79d-3696-4fb9-900d-a7088eeb3d15",
   "metadata": {},
   "source": [
    "Вариационный ряд:"
   ]
  },
  {
   "cell_type": "code",
   "execution_count": 61,
   "id": "42f8ebe6-b556-496c-a2ee-9964a71c795a",
   "metadata": {},
   "outputs": [
    {
     "name": "stdout",
     "output_type": "stream",
     "text": [
      "4.74 4.824 4.871 4.878 4.882 4.904 4.908 4.91 4.916 4.923 4.94 4.942 4.944 4.95 4.952 4.955 4.956 4.961 4.962 4.978 4.989 4.995 5.002 5.004 5.006 5.014 5.015 5.042 5.046 5.049 5.055 5.061 5.063 5.066 5.071 5.073 5.08 5.096 5.1 5.103 5.105 5.11 5.111 5.128 5.131 5.142 5.152 5.182 5.184 5.245"
     ]
    }
   ],
   "source": [
    "cat(x)"
   ]
  },
  {
   "cell_type": "code",
   "execution_count": 62,
   "id": "249a490a-2d74-4657-9bc5-d86db3d746a3",
   "metadata": {},
   "outputs": [],
   "source": [
    "l <- as.integer(min(x) - 1)\n",
    "u <- as.integer(max(x) + 1)\n",
    "\n",
    "xu <- unique(x);\n",
    "yu <- 0;\n",
    "for(i in 1:length(xu)){\n",
    "    yu[i] = f_emp(x, xu[i]);\n",
    "}\n",
    "yu[length(xu) + 1] = 1;\n",
    "f_emp_graph = stepfun(xu, yu);\n",
    "\n",
    "freqs <- 0;\n",
    "for(i in 1:length(xu)){\n",
    "    freqs[i] <- yu[i+1] - yu[i];\n",
    "}"
   ]
  },
  {
   "cell_type": "markdown",
   "id": "aa4c3e14-4300-4fd5-ba0a-5bc6ec468cc8",
   "metadata": {},
   "source": [
    "Гистограмма + полигон частот:"
   ]
  },
  {
   "cell_type": "code",
   "execution_count": 63,
   "id": "56d4d05b-e541-4492-8a38-6e8acab18327",
   "metadata": {},
   "outputs": [
    {
     "data": {
      "image/png": "[encoded data removed]",
      "text/plain": [
       "Plot with title \"Histogram of x\""
      ]
     },
     "metadata": {
      "image/png": {
       "height": 420,
       "width": 420
      }
     },
     "output_type": "display_data"
    }
   ],
   "source": [
    "# Гистограмма частот и полигон частот\n",
    "hist0 <- hist(x, breaks = seq(min(x), 5.29, by=h), freq=TRUE);\n",
    "lines(hist0$counts ~ hist0$mids, col=\"red\");\n",
    "axis(1, at = c(l:u));"
   ]
  },
  {
   "cell_type": "markdown",
   "id": "b968bb9a-2649-4f6a-b5ac-464ecb4c4069",
   "metadata": {},
   "source": [
    "Эмпирическая функция распределения:"
   ]
  },
  {
   "cell_type": "code",
   "execution_count": 64,
   "id": "088f49b7-8d0c-49d7-ae67-60107f446492",
   "metadata": {},
   "outputs": [
    {
     "data": {
      "image/png": "[encoded data removed]",
      "text/plain": [
       "Plot with title \"stepfun(xu, yu)\""
      ]
     },
     "metadata": {
      "image/png": {
       "height": 420,
       "width": 420
      }
     },
     "output_type": "display_data"
    }
   ],
   "source": [
    "# График эмп. функции распределения\n",
    "plot(f_emp_graph);\n",
    "axis(1, at = c(l:u))"
   ]
  },
  {
   "cell_type": "markdown",
   "id": "ee2eec9a-b287-4def-bdfa-aca521a1c705",
   "metadata": {},
   "source": [
    "Выборочные характеристики:"
   ]
  },
  {
   "cell_type": "code",
   "execution_count": 65,
   "id": "6cebe7b5-917d-4c46-b6f9-4db1b3441ca4",
   "metadata": {},
   "outputs": [
    {
     "name": "stdout",
     "output_type": "stream",
     "text": [
      "Среднее:  5.01432 \n",
      "Выб. дисперсия:  0.0100537 \n",
      "Медиана:  5.014 \n",
      "Асимметрия:  -0.1575004 \n",
      "Эксцесс:  -0.1004314 \n",
      "P( 4.94 <= x <= 5.08 ):  0.52 \n"
     ]
    }
   ],
   "source": [
    "mean <- sum(x)/length(x); # Выборочное среднее\n",
    "\n",
    "var <- sum(x^2)/length(x) - mean^2; # Выборочная дисперсия\n",
    "\n",
    "median <- x[length(x) %/% 2 + 1]; # Медиана\n",
    "\n",
    "asm <- sum((x-mean)^3)/length(x)/var^(3/2); # Выборочная асимметрия\n",
    "\n",
    "exc <- sum((x-mean)^4)/length(x)/var^2-3 # Выборочный эксцесс\n",
    "\n",
    "P_c_d <- f_emp(x, d) - f_emp(x, c); # Вер-ть P(c <= x <= d)\n",
    "\n",
    "cat(\"Среднее: \", mean[1], \"\\n\")\n",
    "cat(\"Выб. дисперсия: \", var[1], \"\\n\")\n",
    "cat(\"Медиана: \", median[1], \"\\n\")\n",
    "cat(\"Асимметрия: \", asm[1], \"\\n\")\n",
    "cat(\"Эксцесс: \", exc[1], \"\\n\")\n",
    "cat(\"P(\", c, \"<= x <=\", d, \"): \", P_c_d[1], \"\\n\")"
   ]
  },
  {
   "cell_type": "markdown",
   "id": "f18c5986-85fc-4737-bcef-18a6a83fe095",
   "metadata": {},
   "source": [
    "Плотность нормального распределения: $\\Large p(x, a, \\sigma) = \\frac{1}{\\sqrt{2\\pi}\\sigma}e^{-\\frac{(x - a)^2}{2\\sigma^2}}$\n",
    "\n",
    "$\\Large L(x, a, \\sigma) = \\prod\\limits_{i=1}^n \\frac{1}{\\sqrt{2\\pi}\\sigma}e^{-\\frac{(x_i - a)^2}{2\\sigma^2}} = \\frac{1}{(2\\pi)^{\\frac{n}{2}}} \\normalsize*\\Large \\frac{1}{\\sigma^n} \\normalsize*\\Large e^{-\\frac{\\sum\\limits_{i=1}^n (x_i - a)^2}{2\\sigma^2}}$\n",
    "\n",
    "$\\Large LL(x, a, \\sigma) = -\\frac{n}{2}log(2\\pi) -nlog\\sigma - \\frac{\\sum\\limits_{i=1}^n (x_i - a)^2}{2\\sigma^2}$\n",
    "\n",
    "$\\Large \\frac{\\partial LL(x, a, \\sigma)}{\\partial a} = \\frac{\\sum\\limits_{i=1}^n x_i - na}{\\sigma^2}$\n",
    "\n",
    "$\\Large \\frac{\\sum\\limits_{i=1}^n x_i - na}{\\sigma^2} = 0; \\sum\\limits_{i=1}^n x_i = na$\n",
    "\n",
    "$\\Large \\hat a = \\overline x$\n",
    "\n",
    "$\\Large \\frac{\\partial LL(x, a, \\sigma)}{\\partial \\sigma} = -\\frac{n}{\\sigma} + \\frac{\\sum\\limits_{i=1}^n (x_i - a)^2}{\\sigma^3} = \\frac{{\\sum\\limits_{i=1}^n (x_i - a)^2} - n\\sigma^2}{\\sigma^3}$\n",
    "\n",
    "$\\Large \\frac{{\\sum\\limits_{i=1}^n (x_i - a)^2} - n\\sigma^2}{\\sigma^3} = 0; \\sum\\limits_{i=1}^n (x_i - \\overline x)^2 = n\\sigma^2$\n",
    "\n",
    "$\\Large \\hat \\sigma^2 = s^2$\n",
    "\n",
    "Метод моментов:\n",
    "\n",
    "$\\Large \\hat a = \\overline x$\n",
    "\n",
    "$\\Large \\hat \\sigma^2 = s^2$\n",
    "\n",
    "\n",
    "$\\Large E\\hat a = \\frac{1}{n}\\sum\\limits_{i=1}^n Ex_i = \\frac{1}{n}an = a$, оценка $\\Large \\hat a$ - несмещённая.\n",
    "\n",
    "$\\Large E\\hat \\sigma^2 = \\frac{n-1}{n}\\sigma^2$ , смещение оценки: $\\Large -\\frac{\\sigma^2}{n}$"
   ]
  },
  {
   "cell_type": "code",
   "execution_count": 66,
   "id": "6474415b-f895-4872-8a5f-77fe88b2813a",
   "metadata": {},
   "outputs": [
    {
     "name": "stdout",
     "output_type": "stream",
     "text": [
      "ОМП для параметра a: 5.01432 \n"
     ]
    }
   ],
   "source": [
    "minus_ll_a <- function(a){\n",
    "    sum((x-a)^2)/2/var^2;\n",
    "}\n",
    "a_est <- nlm(minus_ll_a, p=mean);\n",
    "\n",
    "# НЕ РАБОТАЕТ - КОНФЛИКТ ЛОГАРИФМА И КВАДРАТА\n",
    "#minus_ll_b <- function(sig){\n",
    "#     n*log(sig) + sum((x-mean)^2)/2/sig^2;\n",
    "#}\n",
    "#b_est <- nlm(minus_ll_b, p=0.0100537);\n",
    "\n",
    "cat(\"ОМП для параметра a:\", a_est$estimate, \"\\n\");\n",
    "#cat(\"ОМП для параметра sig:\", b_est$estimate, \"\\n\");"
   ]
  },
  {
   "cell_type": "markdown",
   "id": "f0c51f8f",
   "metadata": {},
   "source": [
    "По лемме Фишера:\n",
    "$\\sqrt{n-1}\\Large\\frac{\\overline x - n}{s} \\sim S_{n-1}$\n",
    "\n",
    "Выберем $\\Large x_\\alpha : S_{n-1}(x_\\alpha) = 1 - \\frac{\\alpha}{2} = 0.95$\n",
    "\n",
    "$\\Large P(-x_\\alpha \\leq \\normalsize\\sqrt{n-1}\\Large\\frac{\\overline x - n}{s} \\leq x_\\alpha) = 1-\\alpha$\n",
    "\n",
    "$\\Large P(\\overline x - \\frac{s x_\\alpha}{\\sqrt{n-1}} \\leq a \\leq \\overline x + \\frac{s x_\\alpha}{\\sqrt{n-1}}) = 1 - \\alpha$\n",
    "\n",
    "Границы ДИ для параметра $\\Large a$ : $\\Large [\\overline x - \\frac{s x_\\alpha}{\\sqrt{n-1}}, \\overline x + \\frac{s x_\\alpha}{\\sqrt{n-1}}]$\n",
    "\n",
    "Снова по лемме Фишера:\n",
    "$\\Large \\frac{ns^2}{\\sigma^2} \\sim \\chi_{n-1}^2$\n",
    "\n",
    "Необходимо выбрать граничные значения $\\large x_{\\alpha1} : K_{n-1}(x_{\\alpha1}) = \\frac{\\alpha}{2}$ и $\\large x_{\\alpha2} : K_{n-1}(x_{\\alpha2}) = 1 - \\frac{\\alpha}{2}$\n",
    "\n",
    "$\\Large P(x_{\\alpha1} \\leq \\frac{ns^2}{\\sigma^2} \\leq x_{\\alpha2}) = 1 - \\alpha$\n",
    "\n",
    "$\\Large P(\\frac{ns^2}{x_{\\alpha2}} \\leq \\sigma^2 \\leq \\frac{ns^2}{x_{\\alpha1}}) = 1 - \\alpha$\n",
    "\n",
    "Границы ДИ для параметра $\\Large \\sigma^2$ : $\\Large [\\frac{ns^2}{x_{\\alpha2}}, \\frac{ns^2}{x_{\\alpha1}}]$"
   ]
  },
  {
   "cell_type": "code",
   "execution_count": 67,
   "id": "1d54a47d-6b4d-467c-94f6-c5578a94f9e6",
   "metadata": {},
   "outputs": [
    {
     "name": "stdout",
     "output_type": "stream",
     "text": [
      "Доверительный интервал для a: [ 5.011912 , 5.016728 ]\n",
      "Доверительный интервал для sigma: [ 0.007577557 , 0.01481522 ]\n"
     ]
    }
   ],
   "source": [
    "x_al <- qt(1 - al/2, n-1);\n",
    "\n",
    "itv <- array(dim=2); # Доверительный интервал\n",
    "common <- mean; # Середина ДИ\n",
    "bord <- x_al*var/sqrt(n-1); # Отступ\n",
    "\n",
    "itv[1] <- common - bord; itv[2] <- common + bord;\n",
    "cat(\"Доверительный интервал для a: [\", itv[1], \",\", itv[2], \"]\\n\");\n",
    "\n",
    "x_al_1 <- qchisq(al/2, n-1);\n",
    "x_al_2 <- qchisq(1 - al/2, n-1);\n",
    "\n",
    "itv[1] <- n*var/x_al_2; itv[2] <- n*var/x_al_1;\n",
    "\n",
    "cat(\"Доверительный интервал для sigma: [\", itv[1], \",\", itv[2], \"]\\n\");"
   ]
  },
  {
   "cell_type": "code",
   "execution_count": 68,
   "id": "3351afa9-3856-4284-88de-d740fd274cad",
   "metadata": {},
   "outputs": [
    {
     "name": "stderr",
     "output_type": "stream",
     "text": [
      "Warning message in plot.histogram(r, freq = freq1, col = col, border = border, angle = angle, :\n",
      "\"the AREAS in the plot are wrong -- rather use 'freq = FALSE'\"\n"
     ]
    },
    {
     "name": "stdout",
     "output_type": "stream",
     "text": [
      "Статистика критерия: 4.367538 ; Квантиль:  10.64464 \n",
      "Максимальный допустимый для H0 уровень значимости: 0.6270691 \n"
     ]
    },
    {
     "data": {
      "image/png": "[encoded data removed]",
      "text/plain": [
       "Plot with title \"Histogram of x\""
      ]
     },
     "metadata": {
      "image/png": {
       "height": 420,
       "width": 420
      }
     },
     "output_type": "display_data"
    }
   ],
   "source": [
    "b <- c(4.89, 4.94, 4.99, 5.04, 5.09, 5.14);\n",
    "r <- length(b) + 1;\n",
    "\n",
    "his<-hist(x,breaks=c(min(x),b,max(x)), freq = TRUE);\n",
    "axis(1, at= min(x): max(x));\n",
    "his<-hist(x,breaks=c(min(x),b,max(x)),plot=FALSE); nu<-his$counts;\n",
    "p<-array(dim=r); p[1]<-pnorm(b[1], a0, sig0)\n",
    "p[2:(r-1)]<-pnorm(b[2:(r-1)], a0, sig0)-pnorm(b[1:(r-2)], a0, sig0)\n",
    "p[r]<-1-pnorm(b[r-1], a0, sig0)\n",
    "v1<-(nu-n*p); v2<-v1^2/n/p;\n",
    "x2<-sum(v2); x_al<-qchisq(1 - al, r - 1);\n",
    "q <- 1 - pchisq(x2, r-1);\n",
    "\n",
    "cat(\"Статистика критерия:\", x2, \"; Квантиль: \", x_al, \"\\n\");\n",
    "cat(\"Максимальный допустимый для H0 уровень значимости:\", q, \"\\n\");"
   ]
  },
  {
   "cell_type": "code",
   "execution_count": 69,
   "id": "962fce04-0bd2-46e0-a9ee-c6a6377fc3dc",
   "metadata": {},
   "outputs": [
    {
     "name": "stdout",
     "output_type": "stream",
     "text": [
      "Статистика критерия сложной гипотезы: 2.441165 , параметр: 5.019536 0.09966803 \n",
      "Квантиль: 10.64464 \n",
      "Максимальный допустимый для H0 уровень значимости: 0.8749932 \n"
     ]
    }
   ],
   "source": [
    "his <- hist(x,breaks=c(min(x),b,max(x)),plot=FALSE);\n",
    "nu <- his$counts;\n",
    "\n",
    "X2 <- function(par){\n",
    "\tg <-n*(pnorm(c(b, Inf), par[1], par[2]) - pnorm(c(-Inf, b), par[1], par[2]));\n",
    "\tf <- (nu - g)^2/g;\n",
    "\tsum(f);\n",
    "}\n",
    "\n",
    "xm <- nlm(X2, p=c(a0, sig0));\n",
    "\n",
    "x_al <- qchisq(1-al,r-1);\n",
    "q <- 1 - pchisq(xm$min, r-1);\n",
    "\n",
    "cat(\"Статистика критерия сложной гипотезы:\", xm$min, \", параметр:\", xm$estimate, \"\\n\");\n",
    "cat(\"Квантиль:\", x_al, \"\\n\");\n",
    "cat(\"Максимальный допустимый для H0 уровень значимости:\", q, \"\\n\");"
   ]
  },
  {
   "cell_type": "markdown",
   "id": "35aa1b19-a901-42d4-8e4a-e43e304c2ddf",
   "metadata": {},
   "source": [
    "Плотность распределения Лапласа: $\\Large \\frac{1}{\\sqrt{2}\\sigma}e^{-\\frac{\\sqrt{2}}{\\sigma}|x-a|}$\n",
    "\n",
    "$\\Large L(x, a, \\sigma) = \\prod\\limits_{i=1}^n \\frac{1}{\\sqrt{2}\\sigma}e^{-\\frac{\\sqrt{2}}{\\sigma}|x_i-a|} = \\frac{1}{2^{\\frac{n}{2}}} \\normalsize*\\Large \\frac{1}{\\sigma^n} \\normalsize*\\Large e^{-\\frac{\\sqrt(2)}{\\sigma} \\sum\\limits_{i=1}^n |x_i - a|}$\n",
    "\n",
    "$\\Large LL(x, a, \\sigma) = -\\frac{n}{2}log2 - nlog\\sigma - \\frac{\\sqrt{2}}{\\sigma}\\sum\\limits_{i=1}^n |x_i - a|$\n",
    "\n",
    "$\\Large \\frac{\\partial LL(x, a, \\sigma)}{\\partial a} = -\\frac{\\sqrt{2}}{\\sigma}\\sum\\limits_{i=1}^n sign(x_i - a)$\n",
    "\n",
    "Минимизируем сумму знаков, взяв медиану в качестве $a$: $\\Large \\hat a = x_{(\\frac{n}{2} + 1)} = 5.014$\n",
    "\n",
    "$\\Large \\frac{\\partial LL(x, a, \\sigma)}{\\partial \\sigma} = \\frac{\\sqrt{2}\\sum\\limits_{i=1}^n |x_i - a| - \\sigma n}{\\sigma^2}$\n",
    "\n",
    "$\\Large \\frac{\\sqrt{2}\\sum\\limits_{i=1}^n |x_i - a| - \\sigma n}{\\sigma^2} = 0; \\sqrt{2}\\sum\\limits_{i=1}^n |x_i - a| = \\sigma n$\n",
    "\n",
    "$\\Large \\hat\\sigma^2 = \\frac{2}{n^2}(\\sum\\limits_{i=1}^n |x_i - x_{(\\frac{n}{2} + 1)}|)^2$\n",
    "\n",
    "Метод моментов:\n",
    "\n",
    "$\\Large \\hat a = \\overline x$, оценка $\\Large\\hat a$ - несмещённая.\n",
    "\n",
    "$\\Large \\hat \\sigma^2 = s^2$, оценка $\\Large\\hat \\sigma^2$ имеет смещение $\\Large -\\frac{\\sigma^2}{n}$."
   ]
  },
  {
   "cell_type": "code",
   "execution_count": 70,
   "id": "833fe214-084f-419a-94d1-6d85006e59af",
   "metadata": {},
   "outputs": [
    {
     "name": "stdout",
     "output_type": "stream",
     "text": [
      "ОМП для параметра a: 5.010214 \n",
      "Либо одно из двух чисел: 5.006 5.014 \n",
      "ОМП для параметра sigma: 0.1168887 \n"
     ]
    }
   ],
   "source": [
    "minus_ll_a <- function(a){\n",
    "    sqrt(2)*sum(abs(x-a))/var;\n",
    "}\n",
    "a_est <- nlm(minus_ll_a, p=mean);\n",
    "\n",
    "cat(\"ОМП для параметра a:\", a_est$estimate, \"\\n\");\n",
    "cat(\"Либо одно из двух чисел:\", x[n/2], x[n/2+1], \"\\n\");\n",
    "cat(\"ОМП для параметра sigma:\", sqrt(2)*sum(abs(x-mean))/n, \"\\n\");"
   ]
  },
  {
   "cell_type": "code",
   "execution_count": 71,
   "id": "42a7381b-3886-4e60-9c85-4a483dff99f9",
   "metadata": {},
   "outputs": [
    {
     "name": "stderr",
     "output_type": "stream",
     "text": [
      "Warning message in plot.histogram(r, freq = freq1, col = col, border = border, angle = angle, :\n",
      "\"the AREAS in the plot are wrong -- rather use 'freq = FALSE'\"\n"
     ]
    },
    {
     "name": "stdout",
     "output_type": "stream",
     "text": [
      "Статистика критерия: 12.18449 ; Квантиль:  10.64464 \n",
      "Максимальный допустимый для H0 уровень значимости: 0.05797744 \n"
     ]
    },
    {
     "data": {
      "image/png": "[encoded data removed]",
      "text/plain": [
       "Plot with title \"Histogram of x\""
      ]
     },
     "metadata": {
      "image/png": {
       "height": 420,
       "width": 420
      }
     },
     "output_type": "display_data"
    }
   ],
   "source": [
    "b <- c(4.89, 4.94, 4.99, 5.04, 5.09, 5.14);\n",
    "r <- length(b) + 1;\n",
    "\n",
    "his<-hist(x,breaks=c(min(x),b,max(x)), freq = TRUE);\n",
    "axis(1, at= min(x): max(x));\n",
    "his<-hist(x,breaks=c(min(x),b,max(x)),plot=FALSE); nu<-his$counts;\n",
    "p<-array(dim=r); p[1]<-plaplace(b[1], a0, sig0);\n",
    "p[2:(r-1)]<-plaplace(b[2:(r-1)], a0, sig0)-plaplace(b[1:(r-2)], a0, sig0);\n",
    "p[r]<-1-plaplace(b[r-1], a0, sig0);\n",
    "v1<-(nu-n*p); v2<-v1^2/n/p;\n",
    "x2<-sum(v2); x_al<-qchisq(1 - al, r - 1);\n",
    "q <- 1 - pchisq(x2, r-1);\n",
    "\n",
    "cat(\"Статистика критерия:\", x2, \"; Квантиль: \", x_al, \"\\n\");\n",
    "cat(\"Максимальный допустимый для H0 уровень значимости:\", q, \"\\n\");"
   ]
  },
  {
   "cell_type": "code",
   "execution_count": 72,
   "id": "19d82acb-e777-4c9f-81be-03a68bddb194",
   "metadata": {},
   "outputs": [
    {
     "name": "stdout",
     "output_type": "stream",
     "text": [
      "Статистика критерия сложной гипотезы: 7.060037 , параметр: 5.023431 0.1248554 \n",
      "Квантиль: 10.64464 \n",
      "Максимальный допустимый для H0 уровень значимости: 0.3153307 \n"
     ]
    }
   ],
   "source": [
    "his <- hist(x,breaks=c(min(x),b,max(x)),plot=FALSE);\n",
    "nu <- his$counts;\n",
    "\n",
    "X2 <- function(par){\n",
    "\tg <-n*(plaplace(c(b, Inf), par[1], par[2]) - plaplace(c(-Inf, b), par[1], par[2]));\n",
    "\tf <- (nu - g)^2/g;\n",
    "\tsum(f);\n",
    "}\n",
    "\n",
    "xm <- nlm(X2, p=c(a0, sig0));\n",
    "\n",
    "x_al <- qchisq(1-al,r-1);\n",
    "q <- 1 - pchisq(xm$min, r-1);\n",
    "\n",
    "cat(\"Статистика критерия сложной гипотезы:\", xm$min, \", параметр:\", xm$estimate, \"\\n\");\n",
    "cat(\"Квантиль:\", x_al, \"\\n\");\n",
    "cat(\"Максимальный допустимый для H0 уровень значимости:\", q, \"\\n\");"
   ]
  }
 ],
 "metadata": {
  "kernelspec": {
   "display_name": "R",
   "language": "R",
   "name": "ir"
  },
  "language_info": {
   "codemirror_mode": "r",
   "file_extension": ".r",
   "mimetype": "text/x-r-source",
   "name": "R",
   "pygments_lexer": "r",
   "version": "4.1.2"
  }
 },
 "nbformat": 4,
 "nbformat_minor": 5
}
