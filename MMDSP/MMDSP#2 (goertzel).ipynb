{
 "cells": [
  {
   "cell_type": "code",
   "execution_count": 1,
   "id": "1f195b73",
   "metadata": {},
   "outputs": [],
   "source": [
    "import numpy as np\n",
    "import librosa"
   ]
  },
  {
   "cell_type": "code",
   "execution_count": 2,
   "id": "f22b8315",
   "metadata": {},
   "outputs": [],
   "source": [
    "code_list = [\n",
    " '1', '2', '3', 'A',\n",
    " '4', '5', '6', 'B',\n",
    " '7', '8', '9', 'C',\n",
    " '*', '0', '#', 'D',\n",
    "]\n",
    "\n",
    "# Coding frequences\n",
    "cfs = [697, 770, 852, 941, 1209, 1336, 1477, 1633]"
   ]
  },
  {
   "cell_type": "code",
   "execution_count": 3,
   "id": "f6e92339",
   "metadata": {},
   "outputs": [],
   "source": [
    "fs = 44100 # Sampling rate, Hz\n",
    "t = 0.2 # Time interval, seconds\n",
    "N = int(fs * t) # Number of samples for Goertzel's algo\n",
    "Wn = 2*np.pi/N # Normalized frequency\n",
    "\n",
    "alpha = lambda k: Wn*k\n",
    "\n",
    "def goertzel(samples:list, freqs:list):\n",
    "    #x0 = samples[0]\n",
    "    samples = samples[-2::-1]\n",
    "    magnitudes = dict()\n",
    "    \n",
    "    for f in freqs:\n",
    "        #k = int(f*N/fs)\n",
    "        c = 2*np.cos(2*np.pi*f/fs)\n",
    "        \n",
    "        g1, g2 = .0, .0\n",
    "        for s in samples:\n",
    "            g = s + c*g1 - g2\n",
    "            g2 = g1\n",
    "            g1 = g\n",
    "        \n",
    "        mag = np.sqrt(g2**2 + g1**2 - c*g1*g2)\n",
    "        magnitudes[f] = mag\n",
    "    \n",
    "    return magnitudes"
   ]
  },
  {
   "cell_type": "code",
   "execution_count": 4,
   "id": "e8348ad5",
   "metadata": {},
   "outputs": [
    {
     "name": "stdout",
     "output_type": "stream",
     "text": [
      "1 A 2 * 3 B 4 # 5 C 6 D 7 * 8 # "
     ]
    }
   ],
   "source": [
    "x, sr = librosa.load(\"DTMF_Lab6.wav\", sr=fs)\n",
    "\n",
    "threshold = 500\n",
    "\n",
    "i = 0\n",
    "while int(i*N) < len(x):\n",
    "    samples = x[int(i*N):int(i*N) + N]\n",
    "    magnitudes = goertzel(samples, cfs)\n",
    "    code_freqs = [k for k, v in magnitudes.items() if v >= threshold]\n",
    "    \n",
    "    code_index = 4*cfs.index(min(code_freqs)) + (cfs.index(max(code_freqs)) - 4)\n",
    "    print(code_list[code_index], end = \" \")\n",
    "    \n",
    "    i += 1.5"
   ]
  }
 ],
 "metadata": {
  "kernelspec": {
   "display_name": "Python 3 (ipykernel)",
   "language": "python",
   "name": "python3"
  },
  "language_info": {
   "codemirror_mode": {
    "name": "ipython",
    "version": 3
   },
   "file_extension": ".py",
   "mimetype": "text/x-python",
   "name": "python",
   "nbconvert_exporter": "python",
   "pygments_lexer": "ipython3",
   "version": "3.9.12"
  }
 },
 "nbformat": 4,
 "nbformat_minor": 5
}
